{
 "cells": [
  {
   "cell_type": "code",
   "execution_count": 18,
   "id": "78f51922",
   "metadata": {},
   "outputs": [],
   "source": [
    "import requests\n",
    "from bs4 import BeautifulSoup\n",
    "import pandas as pd\n",
    "import datetime\n",
    "from collections import defaultdict, Counter\n",
    "from itertools import combinations\n",
    "import numpy as np\n",
    "import matplotlib.pyplot as plt"
   ]
  },
  {
   "cell_type": "code",
   "execution_count": 2,
   "id": "9b896127",
   "metadata": {},
   "outputs": [],
   "source": []
  },
  {
   "cell_type": "code",
   "execution_count": 3,
   "id": "c2b97ef0",
   "metadata": {},
   "outputs": [],
   "source": [
    "# 先設定號col名稱\n",
    "df = pd.DataFrame(columns = [\"date\", \"num1\", \"num2\", \"num3\", \"num4\", \"num5\"])\n",
    "# 開始從第一頁爬到第48頁\n",
    "for i in range(1, 49):\n",
    "    r = requests.get(\"https://www.pilio.idv.tw/lto539/list539BIG.asp?indexpage=\" + str(i) + \"&orderby=new\")\n",
    "    r.encoding = 'utf-8'\n",
    "    soup = BeautifulSoup(r.text, \"html.parser\")\n",
    "    sel = soup.select(\"tr span\")\n",
    "    for j, s in enumerate(sel[2:]):\n",
    "        if s[\"style\"] == \"font-size: 22px; font-weight: bold; color: #000000\":\n",
    "            dateStr = s.text.strip()[-10:]\n",
    "            dt = datetime.datetime.strptime(dateStr, \"%Y/%m/%d\").date()\n",
    "        if s[\"style\"] == \"font-size: 36px; font-weight: bold; color: #000000\":\n",
    "            numsStr = s.text.replace(\" \", \"\").replace(\"\\n\", \"\")\n",
    "            nums = numsStr.split()\n",
    "            nums = [int(num[:2]) for num in nums]\n",
    "        # 因為它每隔兩個才是我們要的資料\n",
    "        if j % 2:\n",
    "            dftmp = pd.DataFrame([[dt] + nums], columns = [\"date\", \"num1\", \"num2\", \"num3\", \"num4\", \"num5\"])\n",
    "            df = pd.concat([df, dftmp], ignore_index = True)\n",
    "# 將日期設為我們的index\n",
    "df.set_index('date', inplace = True)"
   ]
  },
  {
   "cell_type": "code",
   "execution_count": 21,
   "id": "0767c792",
   "metadata": {},
   "outputs": [
    {
     "data": {
      "text/html": [
       "<div>\n",
       "<style scoped>\n",
       "    .dataframe tbody tr th:only-of-type {\n",
       "        vertical-align: middle;\n",
       "    }\n",
       "\n",
       "    .dataframe tbody tr th {\n",
       "        vertical-align: top;\n",
       "    }\n",
       "\n",
       "    .dataframe thead th {\n",
       "        text-align: right;\n",
       "    }\n",
       "</style>\n",
       "<table border=\"1\" class=\"dataframe\">\n",
       "  <thead>\n",
       "    <tr style=\"text-align: right;\">\n",
       "      <th></th>\n",
       "      <th>num1</th>\n",
       "      <th>num2</th>\n",
       "      <th>num3</th>\n",
       "      <th>num4</th>\n",
       "      <th>num5</th>\n",
       "    </tr>\n",
       "    <tr>\n",
       "      <th>date</th>\n",
       "      <th></th>\n",
       "      <th></th>\n",
       "      <th></th>\n",
       "      <th></th>\n",
       "      <th></th>\n",
       "    </tr>\n",
       "  </thead>\n",
       "  <tbody>\n",
       "    <tr>\n",
       "      <th>2022-08-23</th>\n",
       "      <td>5</td>\n",
       "      <td>8</td>\n",
       "      <td>12</td>\n",
       "      <td>15</td>\n",
       "      <td>24</td>\n",
       "    </tr>\n",
       "    <tr>\n",
       "      <th>2022-08-22</th>\n",
       "      <td>6</td>\n",
       "      <td>13</td>\n",
       "      <td>14</td>\n",
       "      <td>25</td>\n",
       "      <td>38</td>\n",
       "    </tr>\n",
       "    <tr>\n",
       "      <th>2022-08-20</th>\n",
       "      <td>11</td>\n",
       "      <td>13</td>\n",
       "      <td>29</td>\n",
       "      <td>31</td>\n",
       "      <td>35</td>\n",
       "    </tr>\n",
       "    <tr>\n",
       "      <th>2022-08-19</th>\n",
       "      <td>26</td>\n",
       "      <td>28</td>\n",
       "      <td>31</td>\n",
       "      <td>37</td>\n",
       "      <td>39</td>\n",
       "    </tr>\n",
       "    <tr>\n",
       "      <th>2022-08-18</th>\n",
       "      <td>4</td>\n",
       "      <td>15</td>\n",
       "      <td>20</td>\n",
       "      <td>35</td>\n",
       "      <td>36</td>\n",
       "    </tr>\n",
       "    <tr>\n",
       "      <th>...</th>\n",
       "      <td>...</td>\n",
       "      <td>...</td>\n",
       "      <td>...</td>\n",
       "      <td>...</td>\n",
       "      <td>...</td>\n",
       "    </tr>\n",
       "    <tr>\n",
       "      <th>2007-01-05</th>\n",
       "      <td>9</td>\n",
       "      <td>12</td>\n",
       "      <td>13</td>\n",
       "      <td>15</td>\n",
       "      <td>26</td>\n",
       "    </tr>\n",
       "    <tr>\n",
       "      <th>2007-01-04</th>\n",
       "      <td>3</td>\n",
       "      <td>9</td>\n",
       "      <td>23</td>\n",
       "      <td>32</td>\n",
       "      <td>39</td>\n",
       "    </tr>\n",
       "    <tr>\n",
       "      <th>2007-01-03</th>\n",
       "      <td>22</td>\n",
       "      <td>23</td>\n",
       "      <td>27</td>\n",
       "      <td>29</td>\n",
       "      <td>30</td>\n",
       "    </tr>\n",
       "    <tr>\n",
       "      <th>2007-01-02</th>\n",
       "      <td>2</td>\n",
       "      <td>12</td>\n",
       "      <td>33</td>\n",
       "      <td>36</td>\n",
       "      <td>37</td>\n",
       "    </tr>\n",
       "    <tr>\n",
       "      <th>2007-01-01</th>\n",
       "      <td>9</td>\n",
       "      <td>11</td>\n",
       "      <td>27</td>\n",
       "      <td>28</td>\n",
       "      <td>38</td>\n",
       "    </tr>\n",
       "  </tbody>\n",
       "</table>\n",
       "<p>4690 rows × 5 columns</p>\n",
       "</div>"
      ],
      "text/plain": [
       "           num1 num2 num3 num4 num5\n",
       "date                               \n",
       "2022-08-23    5    8   12   15   24\n",
       "2022-08-22    6   13   14   25   38\n",
       "2022-08-20   11   13   29   31   35\n",
       "2022-08-19   26   28   31   37   39\n",
       "2022-08-18    4   15   20   35   36\n",
       "...         ...  ...  ...  ...  ...\n",
       "2007-01-05    9   12   13   15   26\n",
       "2007-01-04    3    9   23   32   39\n",
       "2007-01-03   22   23   27   29   30\n",
       "2007-01-02    2   12   33   36   37\n",
       "2007-01-01    9   11   27   28   38\n",
       "\n",
       "[4690 rows x 5 columns]"
      ]
     },
     "execution_count": 21,
     "metadata": {},
     "output_type": "execute_result"
    }
   ],
   "source": [
    "df"
   ]
  },
  {
   "cell_type": "code",
   "execution_count": 5,
   "id": "1c071972",
   "metadata": {},
   "outputs": [],
   "source": [
    "# 儲存成CSV\n",
    "df.to_csv('lotteryHistory.csv', index = False)\n",
    "\n",
    "# 讀取CSV\n",
    "# df2 = pd.read_csv('lotteryHistory.csv', index_col = \"date\")"
   ]
  },
  {
   "cell_type": "code",
   "execution_count": 9,
   "id": "1a49762a",
   "metadata": {},
   "outputs": [],
   "source": [
    "arr = df.to_numpy()"
   ]
  },
  {
   "cell_type": "code",
   "execution_count": 15,
   "id": "2644ffda",
   "metadata": {},
   "outputs": [],
   "source": [
    "unique, counts = np.unique(arr, return_counts=True)"
   ]
  },
  {
   "cell_type": "code",
   "execution_count": 26,
   "id": "e44e242e",
   "metadata": {},
   "outputs": [
    {
     "data": {
      "image/png": "[encoded data removed]",
      "text/plain": [
       "<Figure size 432x288 with 1 Axes>"
      ]
     },
     "metadata": {
      "needs_background": "light"
     },
     "output_type": "display_data"
    }
   ],
   "source": [
    "# 每個數字的出現情形輸出成長條圖\n",
    "plt.bar(unique, counts)\n",
    "plt.title(\"Number Counts\")\n",
    "plt.xlabel(\"Number\")\n",
    "plt.ylabel(\"count\")\n",
    "plt.show()"
   ]
  },
  {
   "cell_type": "code",
   "execution_count": 29,
   "id": "0646d54f",
   "metadata": {
    "scrolled": false
   },
   "outputs": [
    {
     "name": "stdout",
     "output_type": "stream",
     "text": [
      "max count :  655\n",
      "min count :  562\n"
     ]
    }
   ],
   "source": [
    "print(\"max count : \", np.max(counts))\n",
    "print(\"min count : \", np.min(counts))"
   ]
  },
  {
   "cell_type": "code",
   "execution_count": 65,
   "id": "48823ae1",
   "metadata": {},
   "outputs": [
    {
     "name": "stdout",
     "output_type": "stream",
     "text": [
      "maxCombo : (2, 11, 16, 25, 38)\n",
      "maxFreq  : 2\n",
      "Average frequency : 1.005143591941706\n"
     ]
    }
   ],
   "source": [
    "# 五個數字組合\n",
    "# key為組合, val為次數\n",
    "hm = defaultdict(int)\n",
    "for row in arr:\n",
    "    hm[tuple(row)]+=1\n",
    "\n",
    "# 查看出現最高次數\n",
    "maxFreq = 0\n",
    "maxComb = set()\n",
    "for combo, freq in hm.items():\n",
    "    if freq > maxFreq:\n",
    "        maxFreq = freq\n",
    "        maxCombo = combo\n",
    "print(\"maxCombo :\", maxCombo)\n",
    "print(\"maxFreq  :\",maxFreq)\n",
    "print(\"Average frequency :\", np.array(list(hm.values())).mean())"
   ]
  },
  {
   "cell_type": "code",
   "execution_count": 66,
   "id": "12240302",
   "metadata": {},
   "outputs": [
    {
     "name": "stdout",
     "output_type": "stream",
     "text": [
      "maxCombo : (4, 6, 36, 37)\n",
      "maxFreq  : 4\n",
      "Average frequency : 1.1523341523341524\n"
     ]
    }
   ],
   "source": [
    "# 四個數字組合\n",
    "# key為組合, val為次數\n",
    "hm = defaultdict(int)\n",
    "for row in arr:\n",
    "    for s in combinations(row, 4):\n",
    "        hm[s]+=1\n",
    "\n",
    "# 查看出現最高次數\n",
    "maxFreq = 0\n",
    "maxComb = set()\n",
    "for combo, freq in hm.items():\n",
    "    if freq > maxFreq:\n",
    "        maxFreq = freq\n",
    "        maxCombo = combo\n",
    "print(\"maxCombo :\", maxCombo)\n",
    "print(\"maxFreq  :\",maxFreq)\n",
    "print(\"Average frequency :\", np.array(list(hm.values())).mean())"
   ]
  },
  {
   "cell_type": "code",
   "execution_count": 67,
   "id": "c5e3098c",
   "metadata": {},
   "outputs": [
    {
     "name": "stdout",
     "output_type": "stream",
     "text": [
      "maxCombo : (10, 12, 34)\n",
      "maxFreq  : 16\n",
      "Average frequency : 5.158948410515895\n"
     ]
    }
   ],
   "source": [
    "# 三個數字組合\n",
    "# key為組合, val為次數\n",
    "hm = defaultdict(int)\n",
    "for row in arr:\n",
    "    for s in combinations(row, 3):\n",
    "        hm[s]+=1\n",
    "\n",
    "# 查看出現最高次數\n",
    "maxFreq = 0\n",
    "maxComb = set()\n",
    "for combo, freq in hm.items():\n",
    "    if freq > maxFreq:\n",
    "        maxFreq = freq\n",
    "        maxCombo = combo\n",
    "print(\"maxCombo :\", maxCombo)\n",
    "print(\"maxFreq  :\",maxFreq)\n",
    "print(\"Average frequency :\", np.array(list(hm.values())).mean())"
   ]
  }
 ],
 "metadata": {
  "kernelspec": {
   "display_name": "Python 3 (ipykernel)",
   "language": "python",
   "name": "python3"
  },
  "language_info": {
   "codemirror_mode": {
    "name": "ipython",
    "version": 3
   },
   "file_extension": ".py",
   "mimetype": "text/x-python",
   "name": "python",
   "nbconvert_exporter": "python",
   "pygments_lexer": "ipython3",
   "version": "3.10.4"
  }
 },
 "nbformat": 4,
 "nbformat_minor": 5
}
